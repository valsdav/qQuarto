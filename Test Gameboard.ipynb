{
 "cells": [
  {
   "cell_type": "code",
   "execution_count": 1,
   "metadata": {},
   "outputs": [],
   "source": [
    "import matplotlib.pyplot as plt"
   ]
  },
  {
   "cell_type": "code",
   "execution_count": 2,
   "metadata": {},
   "outputs": [],
   "source": [
    "from Quarto import *"
   ]
  },
  {
   "cell_type": "code",
   "execution_count": 3,
   "metadata": {},
   "outputs": [],
   "source": [
    "g = Gameboard()"
   ]
  },
  {
   "cell_type": "code",
   "execution_count": 4,
   "metadata": {},
   "outputs": [],
   "source": [
    "g.apply_move(((0,0),\"A\"))"
   ]
  },
  {
   "cell_type": "code",
   "execution_count": 5,
   "metadata": {},
   "outputs": [
    {
     "data": {
      "text/plain": [
       "array([[ 1.,  0.,  0.,  0.,  1.,  0.,  0.,  0.,  1.,  0.,  0.,  0.,  1.,\n",
       "         0.,  0.,  0.],\n",
       "       [ 0.,  0.,  0.,  0.,  0.,  0.,  0.,  0.,  0.,  0.,  0.,  0.,  0.,\n",
       "         0.,  0.,  0.],\n",
       "       [ 0.,  0.,  0.,  0.,  0.,  0.,  0.,  0.,  0.,  0.,  0.,  0.,  0.,\n",
       "         0.,  0.,  0.],\n",
       "       [ 0.,  0.,  0.,  0.,  0.,  0.,  0.,  0.,  0.,  0.,  0.,  0.,  0.,\n",
       "         0.,  0.,  0.]])"
      ]
     },
     "execution_count": 5,
     "metadata": {},
     "output_type": "execute_result"
    }
   ],
   "source": [
    "np.concatenate(g.gb[:,:].T,axis=1)"
   ]
  },
  {
   "cell_type": "code",
   "execution_count": 6,
   "metadata": {},
   "outputs": [],
   "source": [
    "left = [l for l in\"CDEFGHIJKLMNOP\"]\n",
    "s = Status(g, \"B\", left, left_items_image(left))"
   ]
  },
  {
   "cell_type": "code",
   "execution_count": 7,
   "metadata": {},
   "outputs": [
    {
     "name": "stdout",
     "output_type": "stream",
     "text": [
      "Gameboard\n"
     ]
    },
    {
     "data": {
      "image/png": "[encoded data removed]",
      "text/plain": [
       "<matplotlib.figure.Figure at 0x7f9cd89f6898>"
      ]
     },
     "metadata": {},
     "output_type": "display_data"
    },
    {
     "name": "stdout",
     "output_type": "stream",
     "text": [
      "Spaces:  [(0, 1), (0, 2), (0, 3), (1, 0), (1, 1), (1, 2), (1, 3), (2, 0), (2, 1), (2, 2), (2, 3), (3, 0), (3, 1), (3, 2), (3, 3)]\n",
      "Item B, LeftItems: CDEFGHIJKLMNOP\n",
      "Left items image\n"
     ]
    },
    {
     "data": {
      "image/png": "[encoded data removed]",
      "text/plain": [
       "<matplotlib.figure.Figure at 0x7f9cd89f68d0>"
      ]
     },
     "metadata": {},
     "output_type": "display_data"
    }
   ],
   "source": [
    "s.show()"
   ]
  },
  {
   "cell_type": "code",
   "execution_count": 8,
   "metadata": {},
   "outputs": [
    {
     "data": {
      "text/plain": [
       "array([((0, 1), 'B'), 'C'], dtype=object)"
      ]
     },
     "execution_count": 8,
     "metadata": {},
     "output_type": "execute_result"
    }
   ],
   "source": [
    "avs = s.get_available_actions()\n",
    "avs[0]"
   ]
  },
  {
   "cell_type": "code",
   "execution_count": 13,
   "metadata": {},
   "outputs": [
    {
     "data": {
      "image/png": "[encoded data removed]",
      "text/plain": [
       "<matplotlib.figure.Figure at 0x7f9cd63fdeb8>"
      ]
     },
     "metadata": {},
     "output_type": "display_data"
    },
    {
     "name": "stdout",
     "output_type": "stream",
     "text": [
      "[[[ 255.    0.]\n",
      "  [ 255.  255.]\n",
      "  [ 255.  125.]\n",
      "  [ 255.  125.]\n",
      "  [ 255.    0.]\n",
      "  [ 255.  125.]\n",
      "  [ 255.  255.]\n",
      "  [ 255.  125.]\n",
      "  [ 255.    0.]\n",
      "  [ 125.  255.]\n",
      "  [ 125.  255.]\n",
      "  [ 125.  255.]\n",
      "  [ 255.    0.]\n",
      "  [ 255.  255.]\n",
      "  [ 255.  255.]\n",
      "  [ 255.  255.]]\n",
      "\n",
      " [[ 255.    0.]\n",
      "  [ 255.  255.]\n",
      "  [ 255.  125.]\n",
      "  [ 255.  125.]\n",
      "  [ 255.    0.]\n",
      "  [ 255.  125.]\n",
      "  [ 255.  255.]\n",
      "  [ 255.  125.]\n",
      "  [ 255.    0.]\n",
      "  [ 125.  255.]\n",
      "  [ 125.  255.]\n",
      "  [ 125.  255.]\n",
      "  [ 125.    0.]\n",
      "  [ 255.  125.]\n",
      "  [ 255.  125.]\n",
      "  [ 255.  125.]]\n",
      "\n",
      " [[ 255.    0.]\n",
      "  [ 255.  255.]\n",
      "  [ 255.  125.]\n",
      "  [ 255.  125.]\n",
      "  [ 255.    0.]\n",
      "  [ 255.  125.]\n",
      "  [ 255.  255.]\n",
      "  [ 255.  125.]\n",
      "  [ 125.    0.]\n",
      "  [ 125.  125.]\n",
      "  [ 125.  125.]\n",
      "  [ 125.  125.]\n",
      "  [ 255.    0.]\n",
      "  [ 255.  255.]\n",
      "  [ 255.  255.]\n",
      "  [ 255.  255.]]\n",
      "\n",
      " [[ 255.  255.]\n",
      "  [ 255.  255.]\n",
      "  [ 255.  125.]\n",
      "  [ 255.  125.]\n",
      "  [ 255.  255.]\n",
      "  [ 255.  125.]\n",
      "  [ 255.  255.]\n",
      "  [ 255.  125.]\n",
      "  [ 125.  125.]\n",
      "  [ 125.  125.]\n",
      "  [ 125.  125.]\n",
      "  [ 125.  125.]\n",
      "  [ 255.  125.]\n",
      "  [ 255.  125.]\n",
      "  [ 255.  125.]\n",
      "  [ 255.  125.]]]\n"
     ]
    }
   ],
   "source": [
    "avs = s.get_available_actions()\n",
    "print(im)"
   ]
  },
  {
   "cell_type": "code",
   "execution_count": 10,
   "metadata": {},
   "outputs": [
    {
     "data": {
      "image/png": "[encoded data removed]",
      "text/plain": [
       "<matplotlib.figure.Figure at 0x7f9cd639ba20>"
      ]
     },
     "metadata": {},
     "output_type": "display_data"
    }
   ],
   "source": [
    "show_action_image(im)"
   ]
  },
  {
   "cell_type": "code",
   "execution_count": 11,
   "metadata": {},
   "outputs": [],
   "source": [
    "s2 = s.get_new_status(avs[0])"
   ]
  },
  {
   "cell_type": "code",
   "execution_count": 12,
   "metadata": {},
   "outputs": [
    {
     "name": "stdout",
     "output_type": "stream",
     "text": [
      "Gameboard\n"
     ]
    },
    {
     "data": {
      "image/png": "[encoded data removed]",
      "text/plain": [
       "<matplotlib.figure.Figure at 0x7f9ce40c41d0>"
      ]
     },
     "metadata": {},
     "output_type": "display_data"
    },
    {
     "name": "stdout",
     "output_type": "stream",
     "text": [
      "Spaces:  [(0, 2), (0, 3), (1, 0), (1, 1), (1, 2), (1, 3), (2, 0), (2, 1), (2, 2), (2, 3), (3, 0), (3, 1), (3, 2), (3, 3)]\n",
      "Item C, LeftItems: DEFGHIJKLMNOP\n",
      "Left items image\n"
     ]
    },
    {
     "data": {
      "image/png": "[encoded data removed]",
      "text/plain": [
       "<matplotlib.figure.Figure at 0x7f9cd6544860>"
      ]
     },
     "metadata": {},
     "output_type": "display_data"
    }
   ],
   "source": [
    "s2[0].show()\n"
   ]
  },
  {
   "cell_type": "code",
   "execution_count": 30,
   "metadata": {},
   "outputs": [],
   "source": [
    "a ={\"a\":1,\"b\":2}"
   ]
  },
  {
   "cell_type": "code",
   "execution_count": 31,
   "metadata": {},
   "outputs": [],
   "source": [
    "b = list(a.keys())"
   ]
  },
  {
   "cell_type": "code",
   "execution_count": 32,
   "metadata": {},
   "outputs": [],
   "source": [
    "b.pop?"
   ]
  },
  {
   "cell_type": "code",
   "execution_count": null,
   "metadata": {},
   "outputs": [],
   "source": []
  }
 ],
 "metadata": {
  "kernelspec": {
   "display_name": "Python 3",
   "language": "python",
   "name": "python3"
  },
  "language_info": {
   "codemirror_mode": {
    "name": "ipython",
    "version": 3
   },
   "file_extension": ".py",
   "mimetype": "text/x-python",
   "name": "python",
   "nbconvert_exporter": "python",
   "pygments_lexer": "ipython3",
   "version": "3.6.2"
  }
 },
 "nbformat": 4,
 "nbformat_minor": 2
}
